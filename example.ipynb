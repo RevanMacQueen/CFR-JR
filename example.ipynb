{
 "cells": [
  {
   "cell_type": "code",
   "execution_count": 3,
   "metadata": {},
   "outputs": [],
   "source": [
    "import pyspiel\n",
    "\n",
    "from cfr_jr.cfr_jr import CFR_JR\n",
    "from cfr_jr.policy import merge_tabular_policies, python_policy_to_pyspiel_policy\n",
    "from cfr_jr.utils import PureStratGenerator\n",
    "\n",
    "from tqdm import tqdm\n"
   ]
  },
  {
   "cell_type": "code",
   "execution_count": 5,
   "metadata": {},
   "outputs": [],
   "source": [
    "NUM_PLAYERS = 3\n",
    "game = pyspiel.load_game(\"kuhn_poker\", {\"players\": NUM_PLAYERS})\n",
    "solver = CFR_JR(game, NUM_PLAYERS)"
   ]
  },
  {
   "cell_type": "code",
   "execution_count": 54,
   "metadata": {},
   "outputs": [
    {
     "name": "stderr",
     "output_type": "stream",
     "text": [
      "100%|██████████| 1000/1000 [03:18<00:00,  5.03it/s]\n"
     ]
    }
   ],
   "source": [
    "ITERATIONS = 1000\n",
    "joint_dist, keys_across_itr = solver.train(ITERATIONS)"
   ]
  },
  {
   "cell_type": "code",
   "execution_count": 49,
   "metadata": {},
   "outputs": [
    {
     "name": "stderr",
     "output_type": "stream",
     "text": [
      "100%|██████████| 359/359 [00:01<00:00, 355.70it/s]\n"
     ]
    },
    {
     "data": {
      "text/plain": [
       "[0.0030282926602034806, 0.0027764259318308823, 0.0029314497577716953]"
      ]
     },
     "execution_count": 49,
     "metadata": {},
     "output_type": "execute_result"
    }
   ],
   "source": [
    "# Verify this is indeed a CCE\n",
    "gs =  [(game, p) for p in range(NUM_PLAYERS)]\n",
    "mu_list = []\n",
    "for s in tqdm(joint_dist.keys()): # s is an index represtenting a strategy\n",
    "    polices = [gs[p].get_strat_by_idx(s[p]) for p in range(NUM_PLAYERS)]\n",
    "    joint_policy = merge_tabular_policies(polices, game)\n",
    "    mu_list.append((joint_dist[s]/ITERATIONS, python_policy_to_pyspiel_policy(joint_policy))) # divide to av across iterations\n",
    "\n",
    "\n",
    "cce_dist_info = pyspiel.cce_dist(game, mu_list)\n",
    "cce_dist_info.deviation_incentives"
   ]
  }
 ],
 "metadata": {
  "kernelspec": {
   "display_name": "venv",
   "language": "python",
   "name": "python3"
  },
  "language_info": {
   "codemirror_mode": {
    "name": "ipython",
    "version": 3
   },
   "file_extension": ".py",
   "mimetype": "text/x-python",
   "name": "python",
   "nbconvert_exporter": "python",
   "pygments_lexer": "ipython3",
   "version": "3.9.13"
  },
  "orig_nbformat": 4,
  "vscode": {
   "interpreter": {
    "hash": "1a0ba906f3feaffde1ac827d1b6ce5c3a7b2f41e1f06403e6d504f6a344b3113"
   }
  }
 },
 "nbformat": 4,
 "nbformat_minor": 2
}
